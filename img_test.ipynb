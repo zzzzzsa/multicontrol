{
 "cells": [
  {
   "cell_type": "code",
   "execution_count": null,
   "metadata": {},
   "outputs": [],
   "source": [
    "from PIL import Image\n",
    "\n",
    "def make_background_transparent(img_path, output_path, threshold=50):\n",
    "    \"\"\"\n",
    "    Convert the black background of an image to transparent.\n",
    "    \n",
    "    Parameters:\n",
    "    - img_path: Path to the input image.\n",
    "    - output_path: Path to save the output image.\n",
    "    - threshold: The RGB value below which colors will be made transparent.\n",
    "    \"\"\"\n",
    "    #img_path = \"threestudio/load/images/shark_right.png\"\n",
    "    img = Image.open(img_path).convert(\"RGBA\")\n",
    "    #output_path = \"threestudio/load/images/shark_right.\"\n",
    "    datas = img.getdata()\n",
    "\n",
    "    new_data = []\n",
    "    for item in datas:\n",
    "        # Change all black (also shades of blacks)\n",
    "        # pixels to transparent\n",
    "        if item[0] < threshold and item[1] < threshold and item[2] < threshold:\n",
    "            new_data.append((255, 255, 255, 0))\n",
    "        else:\n",
    "            new_data.append(item)\n",
    "\n",
    "    img.putdata(new_data)\n",
    "    img.save(output_path, \"PNG\")\n",
    "\n",
    "# Example usage\n",
    "make_background_transparent(\"threestudio/load/images/shark_right.png\", \"threestudio/load/images/shark_right_trans.png\")\n"
   ]
  },
  {
   "cell_type": "code",
   "execution_count": null,
   "metadata": {},
   "outputs": [],
   "source": [
    "from controlnet_aux import CannyDetector, NormalBaeDetector\n",
    "import cv2\n",
    "import numpy as np\n",
    "\n",
    "preprocessor = CannyDetector()\n",
    "\n",
    "def prepare_image_cond(cond_rgb: Float[Tensor, \"B H W C\"]):\n",
    "    cond_rgb = (\n",
    "        (cond_rgb[0].detach().cpu().numpy() * 255).astype(np.uint8).copy()\n",
    "    )\n",
    "    blurred_img = cv2.blur(cond_rgb, ksize=(5, 5))\n",
    "    detected_map = self.preprocessor(\n",
    "        blurred_img, self.cfg.canny_lower_bound, self.cfg.canny_upper_bound\n",
    "    )\n",
    "    control = (\n",
    "        torch.from_numpy(np.array(detected_map)).float() / 255.0\n",
    "    )\n",
    "    print(control.shape)\n",
    "    control = control.unsqueeze(-1).repeat(1, 1, 3)\n",
    "    control = control.unsqueeze(0)\n",
    "    control = control.permute(0, 3, 1, 2)\n",
    "    return control\n",
    "\n",
    "prepare_image_cond(\"/nvme/yyh/threestudio/load/images/shark_instruct_64.png\")"
   ]
  }
 ],
 "metadata": {
  "language_info": {
   "name": "python"
  }
 },
 "nbformat": 4,
 "nbformat_minor": 2
}
