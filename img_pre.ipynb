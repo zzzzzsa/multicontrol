{
 "cells": [
  {
   "cell_type": "code",
   "execution_count": null,
   "metadata": {},
   "outputs": [],
   "source": [
    "from PIL import Image\n",
    "\n",
    "def make_background_transparent(img_path, output_path, threshold=50):\n",
    "    \"\"\"\n",
    "    Convert the black background of an image to transparent.\n",
    "    \n",
    "    Parameters:\n",
    "    - img_path: Path to the input image.\n",
    "    - output_path: Path to save the output image.\n",
    "    - threshold: The RGB value below which colors will be made transparent.\n",
    "    \"\"\"\n",
    "    #img_path = \"threestudio/load/images/shark_right.png\"\n",
    "    img = Image.open(img_path).convert(\"RGBA\")\n",
    "    #output_path = \"threestudio/load/images/shark_right.\"\n",
    "    datas = img.getdata()\n",
    "\n",
    "    new_data = []\n",
    "    for item in datas:\n",
    "        # Change all black (also shades of blacks)\n",
    "        # pixels to transparent\n",
    "        if item[0] < threshold and item[1] < threshold and item[2] < threshold:\n",
    "            new_data.append((255, 255, 255, 0))\n",
    "        else:\n",
    "            new_data.append(item)\n",
    "\n",
    "    img.putdata(new_data)\n",
    "    img.save(output_path, \"PNG\")\n",
    "\n",
    "# Example usage\n",
    "make_background_transparent(\"threestudio/load/images/shark_right.png\", \"threestudio/load/images/shark_right_trans.png\")\n"
   ]
  }
 ],
 "metadata": {
  "language_info": {
   "name": "python"
  }
 },
 "nbformat": 4,
 "nbformat_minor": 2
}
